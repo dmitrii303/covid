{
 "cells": [
  {
   "cell_type": "code",
   "execution_count": null,
   "metadata": {},
   "outputs": [],
   "source": [
    "import warnings\n",
    "warnings.simplefilter('ignore')"
   ]
  },
  {
   "cell_type": "code",
   "execution_count": null,
   "metadata": {},
   "outputs": [],
   "source": [
    "import requests\n",
    "cases_request = requests.get('https://coronavirus-tracker-api.herokuapp.com/confirmed')\n",
    "deaths_request = requests.get('https://coronavirus-tracker-api.herokuapp.com/deaths')\n",
    "recovered_request = requests.get('https://coronavirus-tracker-api.herokuapp.com/recovered')\n",
    "cases_json_data = cases_request.json()\n",
    "deaths_json_data = deaths_request.json()\n",
    "recovered_json_data = recovered_request.json()"
   ]
  },
  {
   "cell_type": "code",
   "execution_count": null,
   "metadata": {},
   "outputs": [],
   "source": [
    "def transform_data(json_data, number_field_name):\n",
    "    \"\"\"Function that transforms the full json-data into a list of small dict-objects. \n",
    "    \n",
    "    Each object states for a single day in a single country.\n",
    "    \"\"\"\n",
    "    complete_list = []\n",
    "    for country_data in json_data['locations']:\n",
    "        for history_date, number in country_data['history'].items():\n",
    "            if history_date == 'latest':\n",
    "                continue\n",
    "            day_data = {'country': country_data['country'], 'date_text': history_date, number_field_name: number}\n",
    "            complete_list.append(day_data)\n",
    "    return complete_list\n",
    "\n",
    "cases_list = transform_data(cases_json_data, 'number_of_cases')\n",
    "deaths_list = transform_data(deaths_json_data, 'number_of_deaths')\n",
    "recovered_list = transform_data(deaths_json_data, 'number_of_recovered')\n",
    "cases_list[:5]"
   ]
  },
  {
   "cell_type": "code",
   "execution_count": null,
   "metadata": {},
   "outputs": [],
   "source": [
    "import pandas as pd\n",
    "cases_df = pd.DataFrame(cases_list)\n",
    "deaths_df = pd.DataFrame(deaths_list)\n",
    "recovered_df = pd.DataFrame(recovered_list)\n",
    "\n",
    "complete_df = deaths_df.merge(cases_df, on=['country', 'date_text'])\n",
    "complete_df = complete_df.merge(recovered_df, on=['country', 'date_text'])\n",
    "complete_df.head()"
   ]
  },
  {
   "cell_type": "code",
   "execution_count": null,
   "metadata": {},
   "outputs": [],
   "source": [
    "from datetime import date, timedelta, datetime\n",
    "from matplotlib import pyplot as plt\n",
    "from datetime import date, datetime\n",
    "\n",
    "#Set a country and the date of the epidemic's start\n",
    "country = 'Italy'\n",
    "start_date = date(2020, 2, 10)\n",
    "\n",
    "# Filter dataframe by country and dates\n",
    "country_df = complete_df[complete_df['country'] == country]\n",
    "country_df['date'] = country_df['date_text'].apply(lambda x: datetime.strptime(x, '%m/%d/%y').date())\n",
    "country_df['days'] = country_df['date'].apply(lambda x: (x - start_date).days)\n",
    "country_df = country_df[country_df['days'] >= 0]\n",
    "country_df = country_df.sort_values(by='days')\n",
    "country_df.head()"
   ]
  },
  {
   "cell_type": "code",
   "execution_count": null,
   "metadata": {},
   "outputs": [],
   "source": [
    "plt.figure(figsize=(14, 7))\n",
    "plt.scatter(country_df['date'], country_df['number_of_cases'])\n",
    "plt.xlabel('date')\n",
    "plt.ylabel('N of confirmed cases')\n",
    "plt.show()"
   ]
  },
  {
   "cell_type": "code",
   "execution_count": null,
   "metadata": {},
   "outputs": [],
   "source": [
    "from scipy.optimize import curve_fit\n",
    "import numpy as np\n",
    "\n",
    "def sigmoid(x, m, k, x0):\n",
    "    \"\"\"The standard logistic function.\"\"\"\n",
    "    return m / (1 + np.exp(-k * (x - x0)))\n",
    "\n",
    "x_train = country_df['days'].to_numpy()\n",
    "y_train = country_df['number_of_cases'].to_numpy()\n",
    "\n",
    "params, __ = curve_fit(sigmoid, x_train, y_train)\n",
    "params.tolist()"
   ]
  },
  {
   "cell_type": "code",
   "execution_count": null,
   "metadata": {},
   "outputs": [],
   "source": [
    "m, k, x0 = params.tolist()\n",
    "days_to_predict = np.array(list(range(100)))\n",
    "prediction_dates_list = [start_date + timedelta(days=i) for i in range(100)]\n",
    "predicted_cases = sigmoid(days_to_predict, m, k, x0)\n",
    "hictorical_dates = country_df['date']\n",
    "\n",
    "plt.figure(figsize=(14,7))\n",
    "plt.scatter(hictorical_dates, country_df['number_of_cases'], color='r')\n",
    "plt.plot(prediction_dates_list, predicted_cases)\n",
    "plt.xlabel('Day number')\n",
    "plt.ylabel('N of confirmed cases')\n",
    "plt.show()"
   ]
  },
  {
   "cell_type": "code",
   "execution_count": null,
   "metadata": {},
   "outputs": [],
   "source": [
    "def get_new_daily_cases(cumulative_cases_list):\n",
    "    \"\"\"The function that transforms a list of accumulated daily cases to a list of new cases.\"\"\"\n",
    "    days_number = len(cumulative_cases_list)\n",
    "    daily_cases = [cumulative_cases_list[i + 1] - cumulative_cases_list[i] for i in range(days_number - 1)]\n",
    "    # Add the first day cases number as the first day increment\n",
    "    daily_cases = [cumulative_cases_list[0]] + daily_cases\n",
    "    return daily_cases\n",
    "\n",
    "predicted_cases_list = predicted_cases.tolist()\n",
    "predicted_daily_new_cases = get_new_daily_cases(predicted_cases_list)\n",
    "historical_cases_list = y_train.tolist()\n",
    "historical_daily_new_cases = get_new_daily_cases(historical_cases_list)\n",
    "\n",
    "# Plot the real and predicted daily increments\n",
    "plt.figure(figsize=(14,7))\n",
    "plt.scatter(hictorical_dates, historical_daily_new_cases, color='r')\n",
    "plt.plot(prediction_dates_list, predicted_daily_new_cases)\n",
    "plt.show()"
   ]
  },
  {
   "cell_type": "code",
   "execution_count": null,
   "metadata": {},
   "outputs": [],
   "source": []
  },
  {
   "cell_type": "code",
   "execution_count": null,
   "metadata": {},
   "outputs": [],
   "source": []
  }
 ],
 "metadata": {
  "kernelspec": {
   "display_name": "Python 3",
   "language": "python",
   "name": "python3"
  },
  "language_info": {
   "codemirror_mode": {
    "name": "ipython",
    "version": 3
   },
   "file_extension": ".py",
   "mimetype": "text/x-python",
   "name": "python",
   "nbconvert_exporter": "python",
   "pygments_lexer": "ipython3",
   "version": "3.6.9"
  }
 },
 "nbformat": 4,
 "nbformat_minor": 4
}
