{
 "cells": [
  {
   "cell_type": "code",
   "execution_count": 1,
   "metadata": {},
   "outputs": [],
   "source": [
    "import warnings\n",
    "warnings.simplefilter('ignore')"
   ]
  },
  {
   "cell_type": "code",
   "execution_count": 2,
   "metadata": {},
   "outputs": [],
   "source": [
    "import requests\n",
    "cases_request = requests.get('https://coronavirus-tracker-api.herokuapp.com/confirmed')\n",
    "deaths_request = requests.get('https://coronavirus-tracker-api.herokuapp.com/deaths')\n",
    "recovered_request = requests.get('https://coronavirus-tracker-api.herokuapp.com/recovered')\n",
    "cases_json_data = cases_request.json()\n",
    "deaths_json_data = deaths_request.json()\n",
    "recovered_json_data = recovered_request.json()"
   ]
  },
  {
   "cell_type": "code",
   "execution_count": 3,
   "metadata": {},
   "outputs": [
    {
     "data": {
      "text/plain": [
       "[{'country': 'Afghanistan', 'date_text': '1/22/20', 'number_of_cases': 0},\n",
       " {'country': 'Afghanistan', 'date_text': '1/23/20', 'number_of_cases': 0},\n",
       " {'country': 'Afghanistan', 'date_text': '1/24/20', 'number_of_cases': 0},\n",
       " {'country': 'Afghanistan', 'date_text': '1/25/20', 'number_of_cases': 0},\n",
       " {'country': 'Afghanistan', 'date_text': '1/26/20', 'number_of_cases': 0}]"
      ]
     },
     "execution_count": 3,
     "metadata": {},
     "output_type": "execute_result"
    }
   ],
   "source": [
    "def transform_data(json_data, number_field_name):\n",
    "    \"\"\"Function that transforms the full json-data into a list of small dict-objects. \n",
    "    \n",
    "    Each object states for a single day in a single country.\n",
    "    \"\"\"\n",
    "    complete_list = []\n",
    "    for country_data in json_data['locations']:\n",
    "        for history_date, number in country_data['history'].items():\n",
    "            if history_date == 'latest':\n",
    "                continue\n",
    "            day_data = {'country': country_data['country'], 'date_text': history_date, number_field_name: number}\n",
    "            complete_list.append(day_data)\n",
    "    return complete_list\n",
    "\n",
    "cases_list = transform_data(cases_json_data, 'number_of_cases')\n",
    "deaths_list = transform_data(deaths_json_data, 'number_of_deaths')\n",
    "recovered_list = transform_data(deaths_json_data, 'number_of_recovered')\n",
    "cases_list[:5]"
   ]
  },
  {
   "cell_type": "code",
   "execution_count": 4,
   "metadata": {},
   "outputs": [
    {
     "data": {
      "text/html": [
       "<div>\n",
       "<style scoped>\n",
       "    .dataframe tbody tr th:only-of-type {\n",
       "        vertical-align: middle;\n",
       "    }\n",
       "\n",
       "    .dataframe tbody tr th {\n",
       "        vertical-align: top;\n",
       "    }\n",
       "\n",
       "    .dataframe thead th {\n",
       "        text-align: right;\n",
       "    }\n",
       "</style>\n",
       "<table border=\"1\" class=\"dataframe\">\n",
       "  <thead>\n",
       "    <tr style=\"text-align: right;\">\n",
       "      <th></th>\n",
       "      <th>country</th>\n",
       "      <th>date_text</th>\n",
       "      <th>number_of_deaths</th>\n",
       "      <th>number_of_cases</th>\n",
       "      <th>number_of_recovered</th>\n",
       "    </tr>\n",
       "  </thead>\n",
       "  <tbody>\n",
       "    <tr>\n",
       "      <th>0</th>\n",
       "      <td>Afghanistan</td>\n",
       "      <td>1/22/20</td>\n",
       "      <td>0</td>\n",
       "      <td>0</td>\n",
       "      <td>0</td>\n",
       "    </tr>\n",
       "    <tr>\n",
       "      <th>1</th>\n",
       "      <td>Afghanistan</td>\n",
       "      <td>1/23/20</td>\n",
       "      <td>0</td>\n",
       "      <td>0</td>\n",
       "      <td>0</td>\n",
       "    </tr>\n",
       "    <tr>\n",
       "      <th>2</th>\n",
       "      <td>Afghanistan</td>\n",
       "      <td>1/24/20</td>\n",
       "      <td>0</td>\n",
       "      <td>0</td>\n",
       "      <td>0</td>\n",
       "    </tr>\n",
       "    <tr>\n",
       "      <th>3</th>\n",
       "      <td>Afghanistan</td>\n",
       "      <td>1/25/20</td>\n",
       "      <td>0</td>\n",
       "      <td>0</td>\n",
       "      <td>0</td>\n",
       "    </tr>\n",
       "    <tr>\n",
       "      <th>4</th>\n",
       "      <td>Afghanistan</td>\n",
       "      <td>1/26/20</td>\n",
       "      <td>0</td>\n",
       "      <td>0</td>\n",
       "      <td>0</td>\n",
       "    </tr>\n",
       "  </tbody>\n",
       "</table>\n",
       "</div>"
      ],
      "text/plain": [
       "       country date_text  number_of_deaths  number_of_cases  \\\n",
       "0  Afghanistan   1/22/20                 0                0   \n",
       "1  Afghanistan   1/23/20                 0                0   \n",
       "2  Afghanistan   1/24/20                 0                0   \n",
       "3  Afghanistan   1/25/20                 0                0   \n",
       "4  Afghanistan   1/26/20                 0                0   \n",
       "\n",
       "   number_of_recovered  \n",
       "0                    0  \n",
       "1                    0  \n",
       "2                    0  \n",
       "3                    0  \n",
       "4                    0  "
      ]
     },
     "execution_count": 4,
     "metadata": {},
     "output_type": "execute_result"
    }
   ],
   "source": [
    "import pandas as pd\n",
    "cases_df = pd.DataFrame(cases_list)\n",
    "deaths_df = pd.DataFrame(deaths_list)\n",
    "recovered_df = pd.DataFrame(recovered_list)\n",
    "\n",
    "complete_df = deaths_df.merge(cases_df, on=['country', 'date_text'])\n",
    "complete_df = complete_df.merge(recovered_df, on=['country', 'date_text'])\n",
    "complete_df.head()"
   ]
  },
  {
   "cell_type": "code",
   "execution_count": 5,
   "metadata": {},
   "outputs": [
    {
     "data": {
      "text/html": [
       "<div>\n",
       "<style scoped>\n",
       "    .dataframe tbody tr th:only-of-type {\n",
       "        vertical-align: middle;\n",
       "    }\n",
       "\n",
       "    .dataframe tbody tr th {\n",
       "        vertical-align: top;\n",
       "    }\n",
       "\n",
       "    .dataframe thead th {\n",
       "        text-align: right;\n",
       "    }\n",
       "</style>\n",
       "<table border=\"1\" class=\"dataframe\">\n",
       "  <thead>\n",
       "    <tr style=\"text-align: right;\">\n",
       "      <th></th>\n",
       "      <th>country</th>\n",
       "      <th>date_text</th>\n",
       "      <th>number_of_deaths</th>\n",
       "      <th>number_of_cases</th>\n",
       "      <th>number_of_recovered</th>\n",
       "      <th>date</th>\n",
       "      <th>days</th>\n",
       "    </tr>\n",
       "  </thead>\n",
       "  <tbody>\n",
       "    <tr>\n",
       "      <th>2823706</th>\n",
       "      <td>Italy</td>\n",
       "      <td>2/10/20</td>\n",
       "      <td>0</td>\n",
       "      <td>3</td>\n",
       "      <td>0</td>\n",
       "      <td>2020-02-10</td>\n",
       "      <td>0</td>\n",
       "    </tr>\n",
       "    <tr>\n",
       "      <th>2823707</th>\n",
       "      <td>Italy</td>\n",
       "      <td>2/11/20</td>\n",
       "      <td>0</td>\n",
       "      <td>3</td>\n",
       "      <td>0</td>\n",
       "      <td>2020-02-11</td>\n",
       "      <td>1</td>\n",
       "    </tr>\n",
       "    <tr>\n",
       "      <th>2823708</th>\n",
       "      <td>Italy</td>\n",
       "      <td>2/12/20</td>\n",
       "      <td>0</td>\n",
       "      <td>3</td>\n",
       "      <td>0</td>\n",
       "      <td>2020-02-12</td>\n",
       "      <td>2</td>\n",
       "    </tr>\n",
       "    <tr>\n",
       "      <th>2823709</th>\n",
       "      <td>Italy</td>\n",
       "      <td>2/13/20</td>\n",
       "      <td>0</td>\n",
       "      <td>3</td>\n",
       "      <td>0</td>\n",
       "      <td>2020-02-13</td>\n",
       "      <td>3</td>\n",
       "    </tr>\n",
       "    <tr>\n",
       "      <th>2823710</th>\n",
       "      <td>Italy</td>\n",
       "      <td>2/14/20</td>\n",
       "      <td>0</td>\n",
       "      <td>3</td>\n",
       "      <td>0</td>\n",
       "      <td>2020-02-14</td>\n",
       "      <td>4</td>\n",
       "    </tr>\n",
       "  </tbody>\n",
       "</table>\n",
       "</div>"
      ],
      "text/plain": [
       "        country date_text  number_of_deaths  number_of_cases  \\\n",
       "2823706   Italy   2/10/20                 0                3   \n",
       "2823707   Italy   2/11/20                 0                3   \n",
       "2823708   Italy   2/12/20                 0                3   \n",
       "2823709   Italy   2/13/20                 0                3   \n",
       "2823710   Italy   2/14/20                 0                3   \n",
       "\n",
       "         number_of_recovered        date  days  \n",
       "2823706                    0  2020-02-10     0  \n",
       "2823707                    0  2020-02-11     1  \n",
       "2823708                    0  2020-02-12     2  \n",
       "2823709                    0  2020-02-13     3  \n",
       "2823710                    0  2020-02-14     4  "
      ]
     },
     "execution_count": 5,
     "metadata": {},
     "output_type": "execute_result"
    }
   ],
   "source": [
    "from datetime import date, timedelta, datetime\n",
    "from matplotlib import pyplot as plt\n",
    "from datetime import date, datetime\n",
    "\n",
    "#Set a country and the date of the epidemic's start\n",
    "country = 'Italy'\n",
    "start_date = date(2020, 2, 10)\n",
    "\n",
    "# Filter dataframe by country and dates\n",
    "country_df = complete_df[complete_df['country'] == country]\n",
    "country_df['date'] = country_df['date_text'].apply(lambda x: datetime.strptime(x, '%m/%d/%y').date())\n",
    "country_df['days'] = country_df['date'].apply(lambda x: (x - start_date).days)\n",
    "country_df = country_df[country_df['days'] >= 0]\n",
    "country_df = country_df.sort_values(by='days')\n",
    "country_df.head()"
   ]
  },
  {
   "cell_type": "code",
   "execution_count": 6,
   "metadata": {},
   "outputs": [
    {
     "data": {
      "image/png": "[encoded data removed]",
      "text/plain": [
       "<Figure size 1008x504 with 1 Axes>"
      ]
     },
     "metadata": {
      "needs_background": "light"
     },
     "output_type": "display_data"
    }
   ],
   "source": [
    "plt.figure(figsize=(14, 7))\n",
    "plt.scatter(country_df['date'], country_df['number_of_cases'])\n",
    "plt.xlabel('date')\n",
    "plt.ylabel('N of confirmed cases')\n",
    "plt.show()"
   ]
  },
  {
   "cell_type": "code",
   "execution_count": 7,
   "metadata": {},
   "outputs": [
    {
     "data": {
      "text/plain": [
       "[128726.87423449046, 0.1863097896258783, 42.04219872408674]"
      ]
     },
     "execution_count": 7,
     "metadata": {},
     "output_type": "execute_result"
    }
   ],
   "source": [
    "from scipy.optimize import curve_fit\n",
    "import numpy as np\n",
    "\n",
    "def sigmoid(x, m, k, x0):\n",
    "    \"\"\"The standard logistic function.\"\"\"\n",
    "    return m / (1 + np.exp(-k * (x - x0)))\n",
    "\n",
    "x_train = country_df['days'].to_numpy()\n",
    "y_train = country_df['number_of_cases'].to_numpy()\n",
    "\n",
    "params, __ = curve_fit(sigmoid, x_train, y_train)\n",
    "params.tolist()"
   ]
  },
  {
   "cell_type": "code",
   "execution_count": 8,
   "metadata": {},
   "outputs": [
    {
     "data": {
      "image/png": "[encoded data removed]",
      "text/plain": [
       "<Figure size 1008x504 with 1 Axes>"
      ]
     },
     "metadata": {
      "needs_background": "light"
     },
     "output_type": "display_data"
    }
   ],
   "source": [
    "m, k, x0 = params.tolist()\n",
    "days_to_predict = np.array(list(range(100)))\n",
    "prediction_dates_list = [start_date + timedelta(days=i) for i in range(100)]\n",
    "predicted_cases = sigmoid(days_to_predict, m, k, x0)\n",
    "hictorical_dates = country_df['date']\n",
    "\n",
    "plt.figure(figsize=(14,7))\n",
    "plt.scatter(hictorical_dates, country_df['number_of_cases'], color='r')\n",
    "plt.plot(prediction_dates_list, predicted_cases)\n",
    "plt.xlabel('Date')\n",
    "plt.ylabel('N of confirmed cases')\n",
    "plt.show()"
   ]
  },
  {
   "cell_type": "code",
   "execution_count": 9,
   "metadata": {},
   "outputs": [
    {
     "data": {
      "image/png": "[encoded data removed]",
      "text/plain": [
       "<Figure size 1008x504 with 1 Axes>"
      ]
     },
     "metadata": {
      "needs_background": "light"
     },
     "output_type": "display_data"
    }
   ],
   "source": [
    "def get_new_daily_cases(cumulative_cases_list):\n",
    "    \"\"\"The function that transforms a list of accumulated daily cases to a list of new cases.\"\"\"\n",
    "    days_number = len(cumulative_cases_list)\n",
    "    daily_cases = [cumulative_cases_list[i + 1] - cumulative_cases_list[i] for i in range(days_number - 1)]\n",
    "    # Add the first day cases number as the first day increment\n",
    "    daily_cases = [cumulative_cases_list[0]] + daily_cases\n",
    "    return daily_cases\n",
    "\n",
    "predicted_cases_list = predicted_cases.tolist()\n",
    "predicted_daily_new_cases = get_new_daily_cases(predicted_cases_list)\n",
    "historical_cases_list = y_train.tolist()\n",
    "historical_daily_new_cases = get_new_daily_cases(historical_cases_list)\n",
    "\n",
    "# Plot the real and predicted daily increments\n",
    "plt.figure(figsize=(14,7))\n",
    "plt.scatter(hictorical_dates, historical_daily_new_cases, color='r')\n",
    "plt.plot(prediction_dates_list, predicted_daily_new_cases)\n",
    "plt.xlabel('Date')\n",
    "plt.ylabel('Daily increment')\n",
    "plt.show()"
   ]
  },
  {
   "cell_type": "code",
   "execution_count": null,
   "metadata": {},
   "outputs": [],
   "source": []
  },
  {
   "cell_type": "code",
   "execution_count": null,
   "metadata": {},
   "outputs": [],
   "source": []
  }
 ],
 "metadata": {
  "kernelspec": {
   "display_name": "Python 3",
   "language": "python",
   "name": "python3"
  },
  "language_info": {
   "codemirror_mode": {
    "name": "ipython",
    "version": 3
   },
   "file_extension": ".py",
   "mimetype": "text/x-python",
   "name": "python",
   "nbconvert_exporter": "python",
   "pygments_lexer": "ipython3",
   "version": "3.6.9"
  }
 },
 "nbformat": 4,
 "nbformat_minor": 4
}
